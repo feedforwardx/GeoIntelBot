{
 "cells": [
  {
   "cell_type": "markdown",
   "id": "0652f26d",
   "metadata": {},
   "source": [
    "# Example: Using KnowledgeGraphIngestor for Knowledge Graph Ingestion\n",
    "\n",
    "This notebook demonstrates how to use the `KnowledgeGraphIngestor` class from `src/kg_ingestion_module.py` to ingest data from a JSONL file into a knowledge graph."
   ]
  },
  {
   "cell_type": "code",
   "execution_count": null,
   "id": "8e13b164",
   "metadata": {},
   "outputs": [],
   "source": [
    "import sys\n",
    "sys.path.append('../src')  # Ensure src is in the path\n",
    "from kg_ingestion_module import KnowledgeGraphIngestor"
   ]
  },
  {
   "cell_type": "markdown",
   "id": "4ef48766",
   "metadata": {},
   "source": [
    "## Set up a mock or placeholder graph object\n",
    "For demonstration, we'll use a simple mock object. Replace this with your actual graph database connection (e.g., Neo4j driver instance) in production."
   ]
  },
  {
   "cell_type": "code",
   "execution_count": null,
   "id": "a12a6eb6",
   "metadata": {},
   "outputs": [],
   "source": [
    "class MockGraph:\n",
    "    def query(self, query, params=None):\n",
    "        print(f'Cypher Query Executed: {query[:60]}...')\n",
    "        print(f'With params: {params}')\n",
    "        return None\n",
    "\n",
    "graph = MockGraph()"
   ]
  },
  {
   "cell_type": "markdown",
   "id": "c267e05f",
   "metadata": {},
   "source": [
    "## Initialize the KnowledgeGraphIngestor\n",
    "Replace `your_api_key_here` with your actual Google Generative AI API key."
   ]
  },
  {
   "cell_type": "code",
   "execution_count": null,
   "id": "26e2043e",
   "metadata": {},
   "outputs": [],
   "source": [
    "# api_key = 'your_api_key_here'  # Replace with your real API key\n",
    "ingestor = KnowledgeGraphIngestor(graph=graph)"
   ]
  },
  {
   "cell_type": "markdown",
   "id": "c518dafa",
   "metadata": {},
   "source": [
    "## Ingest a JSONL file\n",
    "Replace `path/to/your/file.jsonl` with the path to your JSONL file. Each line should be a JSON object with at least `id` and `text` fields."
   ]
  },
  {
   "cell_type": "code",
   "execution_count": null,
   "id": "353a38c9",
   "metadata": {},
   "outputs": [],
   "source": [
    "import asyncio\n",
    "\n",
    "jsonl_file = 'path/to/your/file.jsonl'  # Replace with your JSONL file path\n",
    "\n",
    "# Run the ingestion (in a Jupyter cell, use asyncio.run for top-level await)\n",
    "asyncio.run(ingestor.ingest_jsonl(file_path=jsonl_file))"
   ]
  },
  {
   "cell_type": "markdown",
   "id": "0a126118",
   "metadata": {},
   "source": [
    "---\n",
    "\n",
    "**Note:**\n",
    "- The mock graph prints queries instead of executing them.\n",
    "- For real use, provide a valid graph database connection.\n",
    "- Ensure your API key and file paths are correct.\n",
    "- The ingestion process will log progress and errors to the console and log file."
   ]
  }
 ],
 "metadata": {
  "kernelspec": {
   "display_name": "kg_isro",
   "language": "python",
   "name": "python3"
  },
  "language_info": {
   "codemirror_mode": {
    "name": "ipython",
    "version": 3
   },
   "file_extension": ".py",
   "mimetype": "text/x-python",
   "name": "python",
   "nbconvert_exporter": "python",
   "pygments_lexer": "ipython3",
   "version": "3.9.12"
  }
 },
 "nbformat": 4,
 "nbformat_minor": 5
}
